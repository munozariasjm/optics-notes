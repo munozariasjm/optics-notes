{
 "cells": [
  {
   "cell_type": "code",
   "execution_count": 1,
   "metadata": {},
   "outputs": [],
   "source": [
    "using Plots\n",
    "using QuantumOptics\n",
    "using PyPlot"
   ]
  },
  {
   "attachments": {},
   "cell_type": "markdown",
   "metadata": {},
   "source": [
    "<center>\n",
    "<h1>Coherent states</h1>\n",
    "</center>"
   ]
  },
  {
   "attachments": {},
   "cell_type": "markdown",
   "metadata": {},
   "source": [
    "### What is a coherent state?\n",
    "\n",
    "A coherent state is a quantum state of the harmonic oscillator (such as a light field) that have certain classical-like properties. These states are used in a variety of quantum mechanical settings, but are particularly important in quantum optics where they describe the light from a laser.\n",
    "\n",
    "One key characteristic of coherent states is that they minimize the Heisenberg uncertainty principle for the quadrature components (amplitude and phase) of the light field. This means that they have the most well-defined phase and amplitude that is possible given the principles of quantum mechanics.\n",
    "\n"
   ]
  },
  {
   "attachments": {},
   "cell_type": "markdown",
   "metadata": {},
   "source": [
    "## The coherent states\n",
    "\n",
    "They are defined as an eigenstate $(\\alpha )$ of the annihilation operator $a$. The annihilation operator (which represents the removal of a photon from the light field) is  a key component in the quantization of the electromagnetic field:\n",
    "\n",
    "$$\n",
    "a | \\alpha \\rangle = \\alpha | \\alpha \\rangle\n",
    "$$\n",
    "\n",
    "where $\\alpha$ is a complex number. \n",
    "\n",
    "$$\n",
    "| \\alpha \\rangle = e^{-\\frac{|\\alpha|^2}{2}} \\sum_{n=0}^{\\infty} \\frac{\\alpha^n}{\\sqrt{n!}} |n\\rangle\n",
    "$$\n"
   ]
  },
  {
   "attachments": {},
   "cell_type": "markdown",
   "metadata": {},
   "source": [
    "### Some properties of coherent states\n",
    "\n",
    "1. They are normalized: $$\\langle \\alpha | \\alpha \\rangle = 1$$\n",
    "2. They are quasi-orhtogonal: $$\\langle \\alpha | \\beta \\rangle = e^{-\\frac{|\\alpha - \\beta|^2}{2}}$$\n",
    "3. Average photon number: $$\\langle \\alpha | \\underbrace{a^{\\dagger} a}_{\\hat N} | \\alpha \\rangle = |\\alpha|^2$$\n",
    "4. Variance in photon number: $$(\\Delta n)^2 = \\langle \\alpha | \\hat N^2 | \\alpha \\rangle - \\langle \\alpha | \\hat N | \\alpha \\rangle^2 = |\\alpha|^2$$\n"
   ]
  },
  {
   "attachments": {},
   "cell_type": "markdown",
   "metadata": {},
   "source": [
    "### Photon number distribution\n",
    "\n",
    "Now we can try to compute the probability of finding $n$ photons in a coherent state $|\\alpha \\rangle$. This is given by:\n",
    "\n",
    "$$\n",
    "P(n) = |\\langle n | \\alpha \\rangle|^2 = \\frac{|\\alpha|^{2n}}{n!} e^{-|\\alpha|^2} = \\frac{e^{-\\bar n\\bar n^n}}{n!} \n",
    "$$\n",
    "\n",
    "Let us see how this **Poissonian** distribution looks like for different values of $\\bar n$:"
   ]
  },
  {
   "cell_type": "code",
   "execution_count": 3,
   "metadata": {},
   "outputs": [
    {
     "name": "stderr",
     "output_type": "stream",
     "text": [
      "WARNING: both PyPlot and Plots export \"plot\"; uses of it in module Main must be qualified\n"
     ]
    },
    {
     "ename": "UndefVarError",
     "evalue": "UndefVarError: plot not defined",
     "output_type": "error",
     "traceback": [
      "UndefVarError: plot not defined\n",
      "\n",
      "Stacktrace:\n",
      " [1] plot_P(bar_n::Float64)\n",
      "   @ Main ~/Documents/STUDY/Bsc/Optics/notes/03_coherent_states/theory.ipynb:8\n",
      " [2] macro expansion\n",
      "   @ ~/Documents/STUDY/Bsc/Optics/notes/03_coherent_states/theory.ipynb:12 [inlined]\n",
      " [3] top-level scope\n",
      "   @ ~/.julia/packages/Plots/io9zQ/src/animation.jl:251"
     ]
    }
   ],
   "source": [
    "function P(n, bar_n)\n",
    "    return exp(-bar_n) * bar_n^n / factorial(big(n))\n",
    "end\n",
    "\n",
    "function plot_P(bar_n)\n",
    "    n = 0:30\n",
    "    p = P.(n, bar_n)\n",
    "    plot(n, p, marker=:circle, label=\"<n> = $bar_n\")\n",
    "end\n",
    "\n",
    "@gif for bar_n in 0:0.1:20\n",
    "    plot_P(bar_n)\n",
    "end"
   ]
  },
  {
   "attachments": {},
   "cell_type": "markdown",
   "metadata": {},
   "source": [
    "We can see that the distribution is peaked around the mean value, and that the width of the distribution is proportional to the mean value, and as we increase the mean value, the distribution becomes more and more like a Gaussian."
   ]
  },
  {
   "attachments": {},
   "cell_type": "markdown",
   "metadata": {},
   "source": [
    "### Expectation value of the electric field\n",
    "\n",
    "We can also compute the expectation value of the electric field in a coherent state:\n",
    "\n",
    "$$\n",
    "\\langle \\alpha | \\hat E(\\xi) | \\alpha \\rangle = \\langle \\alpha | \\sqrt{\\frac{\\hbar \\omega}{2 \\epsilon_0 V}} \\hat a + \\sqrt{\\frac{\\hbar \\omega}{2 \\epsilon_0 V}} \\hat a^{\\dagger} | \\alpha \\rangle = \\sqrt{\\frac{\\hbar \\omega}{2 \\epsilon_0 V}} \\langle \\alpha | \\hat a | \\alpha \\rangle + \\sqrt{\\frac{\\hbar \\omega}{2 \\epsilon_0 V}} \\langle \\alpha | \\hat a^{\\dagger} | \\alpha \\rangle \\\\= |\\alpha| \\cos(\\xi - theta)\n",
    "$$\n",
    "\n",
    "Where we have used the fact that $\\langle \\alpha | \\hat a | \\alpha \\rangle = \\alpha$, $\\langle \\alpha | \\hat a^{\\dagger} | \\alpha \\rangle = \\alpha^*$, and that $\\alpha \\equiv |\\alpha| e^{i \\theta}$. \n",
    "The variance in the electric field is given by:\n",
    "\n",
    "$$\n",
    "(\\Delta E)^2 = \\langle \\alpha | \\hat E^2 | \\alpha \\rangle - \\langle \\alpha | \\hat E | \\alpha \\rangle^2 = 1/4\n",
    "$$\n",
    "\n",
    "This means that the electric field in a coherent state is a classical field, and as we can see from the expression above, the variance in the electric field is independent of the mean photon number. A simple result from this is that as the magnitude of the electric field increases, the phase uncertainty relative importance decreases:"
   ]
  },
  {
   "cell_type": "code",
   "execution_count": 4,
   "metadata": {},
   "outputs": [
    {
     "ename": "UndefVarError",
     "evalue": "UndefVarError: plot not defined",
     "output_type": "error",
     "traceback": [
      "UndefVarError: plot not defined\n",
      "\n",
      "Stacktrace:\n",
      " [1] plot_simple_E(A::Float64)\n",
      "   @ Main ~/Documents/STUDY/Bsc/Optics/notes/03_coherent_states/theory.ipynb:8\n",
      " [2] macro expansion\n",
      "   @ ~/Documents/STUDY/Bsc/Optics/notes/03_coherent_states/theory.ipynb:17 [inlined]\n",
      " [3] top-level scope\n",
      "   @ ~/.julia/packages/Plots/io9zQ/src/animation.jl:251"
     ]
    }
   ],
   "source": [
    "function simple_E(A,ξ)\n",
    "    return A * cos(ξ)\n",
    "end\n",
    "\n",
    "function plot_simple_E(A)\n",
    "    ξ = 0:0.1:2π\n",
    "    E = simple_E.(A, ξ)\n",
    "    plot(ξ, E, title=\"α = $A\", label=\"E(ξ)\", xlabel=\"ξ\", ylabel=\"E(ξ)\",)\n",
    "    # Plot minimum \n",
    "    plot!(ξ, E .+ 1/2, label=\"\", color=:blue, linestyle=:dash)\n",
    "    plot!(ξ, E .- 1/2, label=\"\", color=:blue, linestyle=:dash)\n",
    "    # Horizontal line\n",
    "    plot!(ξ, 0*ξ, label=\"\", color=:black)\n",
    "end\n",
    "\n",
    "@gif for A in 0:0.1:10\n",
    "    plot_simple_E(A)\n",
    "end"
   ]
  },
  {
   "attachments": {},
   "cell_type": "markdown",
   "metadata": {},
   "source": [
    "### The energy of a coherent state\n",
    "\n",
    "It is quite straightforward to compute the energy of a coherent state:\n",
    "\n",
    "$$\n",
    "\\langle \\alpha | \\hat H | \\alpha \\rangle = \\hbar \\omega \\langle \\alpha | \\hat a^{\\dagger} \\hat a | \\alpha \\rangle = \\hbar \\omega (\\bar n + 1/2)\n",
    "$$\n",
    "\n",
    "The fluctuations in the energy are given by a very similar expression:\n",
    "\n",
    "$$\n",
    "(\\Delta H)^2 = \\langle \\alpha | \\hat H^2 | \\alpha \\rangle - \\langle \\alpha | \\hat H | \\alpha \\rangle^2 = \\hbar^2 \\omega^2 |\\alpha|^2\n",
    "$$\n"
   ]
  },
  {
   "attachments": {},
   "cell_type": "markdown",
   "metadata": {},
   "source": [
    "# Quadrature components of the electric field\n",
    "\n",
    "The classical electric field can be written as:\n",
    "\n",
    "$$\n",
    "\\hat E(\\xi) = E_0 \\cos(\\overbrace{\\omega t - \\theta}^\\xi) = E_0 \\cos(\\theta) \\cos(\\omega t) + E_0 \\sin(\\theta) \\sin(\\omega t) = E_0 \\cos(\\theta) \\hat X + E_0 \\sin(\\theta) \\hat Y\n",
    "$$\n",
    "\n",
    "$$\n",
    "E = (X + i Y) e^{i \\omega t}\n",
    "$$\n",
    "\n",
    "we'll be calling $\\hat X$ and $\\hat Y$ the quadrature components of the electric field. Thus, we can also write the operators $\\hat X$ and $\\hat Y$ in terms of the annihilation and creation operators:\n",
    "\n",
    "$$X = \\frac{1}{2} (\\hat a + \\hat a^{\\dagger}) \\quad \\quad Y = \\frac{1}{2i} (\\hat a - \\hat a^{\\dagger})$$\n",
    "\n",
    "Surprisingly, the quadrature components of the electric field $X$ and $Y$ are proportional to the position and momentum operators of the harmonic oscillator. This means that the quadrature components of the electric field are conjugate variables.\n",
    "\n",
    "## Displacement operator\n",
    "\n",
    "We can define a displacement operator $D(\\alpha)$ that displaces the state of the harmonic oscillator by $\\alpha$:\n",
    "\n",
    "$$\n",
    "|\\alpha\\rangle =D(\\alpha) |0\\rangle \\quad \\Rightarrow \\quad D(\\alpha) = e^{\\alpha \\hat a^{\\dagger} - \\alpha^* \\hat a}\n",
    "$$\n",
    "\n",
    "Note that the displacement operator is unitary, and that it is a function of the annihilation and creation operators."
   ]
  },
  {
   "cell_type": "code",
   "execution_count": 5,
   "metadata": {},
   "outputs": [
    {
     "data": {
      "text/plain": [
       "plot_cos (generic function with 1 method)"
      ]
     },
     "metadata": {},
     "output_type": "display_data"
    }
   ],
   "source": [
    "function plot_orbit(θ, r)\n",
    "    x = r * cos(θ)\n",
    "    y = r * sin(θ)\n",
    "    p1 = scatter([x], [y], label=\"\", color=:blue, marker=:circle, markersize=10,\n",
    "    xlabel=\"X\", ylabel=\"Y\", title=\"Quadrature phase space\")\n",
    "    # Line from origin to point\n",
    "    plot!(p1, [0, x], [0, y], label=\"\", color=:black, xlims=(-1.2, 1.2), ylims=(-1.2, 1.2))\n",
    "    return p1\n",
    "end\n",
    "\n",
    "function plot_cos(θ)\n",
    "    # Light line on previous values\n",
    "    ys = sin.(0:0.1:θ)\n",
    "    p2 = plot(0:0.1:θ, ys, label=\"\", color=:blue, linestyle=:dash)\n",
    "    plot!(0:0.1:θ, ys.-0.09, label=\"\", linestyle=:dash, xlabel=\"ξ\", ylabel=\"E(ξ)\", title=\"Electric field\", color=:red)\n",
    "    plot!(0:0.1:θ, ys.+0.09, label=\"ΔE\", linestyle=:dash, xlims=(0., 4π), ylims=(-1.2, 1.2), color=:red,)\n",
    "    # Plot current value\n",
    "    scatter!(p2, [θ], [sin(θ)], label=\"\", color=:blue, marker=:circle, markersize=10)\n",
    "    return p2\n",
    "end"
   ]
  },
  {
   "cell_type": "code",
   "execution_count": 6,
   "metadata": {},
   "outputs": [
    {
     "name": "stderr",
     "output_type": "stream",
     "text": [
      "WARNING: both PyPlot and Plots export \"scatter\"; uses of it in module Main must be qualified\n"
     ]
    },
    {
     "ename": "UndefVarError",
     "evalue": "UndefVarError: scatter not defined",
     "output_type": "error",
     "traceback": [
      "UndefVarError: scatter not defined\n",
      "\n",
      "Stacktrace:\n",
      " [1] plot_orbit(θ::Float64, r::Int64)\n",
      "   @ Main ~/Documents/STUDY/Bsc/Optics/notes/03_coherent_states/theory.ipynb:4\n",
      " [2] macro expansion\n",
      "   @ ~/Documents/STUDY/Bsc/Optics/notes/03_coherent_states/theory.ipynb:2 [inlined]\n",
      " [3] top-level scope\n",
      "   @ ~/.julia/packages/Plots/io9zQ/src/animation.jl:251"
     ]
    }
   ],
   "source": [
    "@gif for θ in 0:0.1:4π\n",
    "    p1 = plot_orbit(θ, 1)\n",
    "    p2 = plot_cos(θ)\n",
    "    plot(p1, p2, layout=(1,2), size=(800, 400))\n",
    "end"
   ]
  },
  {
   "attachments": {},
   "cell_type": "markdown",
   "metadata": {},
   "source": []
  }
 ],
 "metadata": {
  "kernelspec": {
   "display_name": "Julia 1.8.0",
   "language": "julia",
   "name": "julia-1.8"
  },
  "language_info": {
   "file_extension": ".jl",
   "mimetype": "application/julia",
   "name": "julia",
   "version": "1.8.0"
  },
  "orig_nbformat": 4
 },
 "nbformat": 4,
 "nbformat_minor": 2
}
