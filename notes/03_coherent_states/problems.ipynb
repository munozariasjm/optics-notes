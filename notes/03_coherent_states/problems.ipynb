{
 "cells": [
  {
   "attachments": {},
   "cell_type": "markdown",
   "metadata": {},
   "source": [
    "# Problems\n",
    "\n",
    "### Solving some problems on the Gerry Optics book"
   ]
  },
  {
   "attachments": {},
   "cell_type": "markdown",
   "metadata": {},
   "source": [
    "---\n",
    "**Problem 3.1**. \n",
    "\n",
    "Carry through the derivation of the Wigner functions of Eqs:\n",
    "\n",
    "$$W(\\alpha) = \\frac{2}{\\pi} e^{-2|\\alpha-\\beta|^2}$$\n",
    "\n",
    "and\n",
    "\n",
    "$$W(\\alpha) = \\frac{2}{\\pi} (-1)^n e^{-2|\\alpha|^2} L_n(4|\\alpha|^2)$$\n",
    "\n",
    "for the coherent state and the number state."
   ]
  },
  {
   "attachments": {},
   "cell_type": "markdown",
   "metadata": {},
   "source": [
    "Let us begin with the general form of the Wigner function: \n",
    "\n",
    "$$W(\\alpha) = \\frac{1}{\\pi^2} \\int e^{\\lambda^*\\alpha - \\lambda \\alpha^*}\\text{Tr}[\\hat \\rho D(\\lambda)]e^{-\\lambda^2/2}d^2 \\lambda$$\n",
    "\n",
    "Considering the coherent state $\\ket{\\beta}$, we have:\n",
    "\n",
    "$$D(\\lambda) = e^{\\lambda \\hat a^\\dagger - \\lambda^* a} \\quad \\Rightarrow \\quad \\text{Tr}[\\hat \\rho D(\\lambda)] = \\bra{\\beta} e^{\\lambda \\hat a^\\dagger - \\lambda^* a} \\ket{\\beta} = e^{\\lambda \\beta^* - \\lambda^* \\beta}$$\n",
    "\n",
    "Then, the Wigner function is:\n",
    "\n",
    "$$W(\\alpha) = \\frac{1}{\\pi^2} \\int e^{\\lambda^*\\alpha - \\lambda \\alpha^* + \\lambda \\beta^* - \\lambda^* \\beta}e^{-\\lambda^2/2}d^2 \\lambda = \\frac{1}{\\pi^2} \\int e^{-\\lambda^2/2 + \\lambda(\\beta^* + \\alpha)}e^{-\\lambda^*/2 + \\lambda^*(\\beta + \\alpha^*)}d^2 \\lambda$$\n",
    "\n",
    "And integrating:\n",
    "\n",
    "$$W(\\alpha) = \\frac{2}{\\pi}e^{-2|\\alpha-\\beta|^2}$$\n",
    "\n",
    "Recall for the physical space: $$\\alpha = \\frac{1}{\\sqrt{2}}(q+ip) \\quad \\lambda = \\frac{1}{\\sqrt{2}}(x + iy)$$"
   ]
  },
  {
   "cell_type": "code",
   "execution_count": null,
   "metadata": {},
   "outputs": [],
   "source": []
  }
 ],
 "metadata": {
  "language_info": {
   "name": "python"
  },
  "orig_nbformat": 4
 },
 "nbformat": 4,
 "nbformat_minor": 2
}
