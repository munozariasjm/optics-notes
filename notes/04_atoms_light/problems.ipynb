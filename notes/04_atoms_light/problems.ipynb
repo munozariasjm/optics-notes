{
 "cells": [
  {
   "attachments": {},
   "cell_type": "markdown",
   "metadata": {},
   "source": [
    "# Problems\n",
    "\n",
    "### Solving some problems on the Gerry Optics book"
   ]
  },
  {
   "attachments": {},
   "cell_type": "markdown",
   "metadata": {},
   "source": [
    "---\n",
    "**Problem 4.1**. \n",
    "\n",
    "In the case of the hamiltonian $$H \\sim (\\hat a^2 \\hat \\sigma_+ + \\hat a^\\dagger^2 \\hat \\sigma_-)$$ \n",
    "\n",
    "a) Obtain the dressed states\n",
    "b) Obatin the atomic inversion initially in a ground state and the field in a fock state $|n\\rangle$. Repeat for the case of the field in a coherent state $|\\alpha\\rangle$.\n",
    "c) Obtain the atomic inversion for an initial thermal state."
   ]
  }
 ],
 "metadata": {
  "language_info": {
   "name": "python"
  },
  "orig_nbformat": 4
 },
 "nbformat": 4,
 "nbformat_minor": 2
}
