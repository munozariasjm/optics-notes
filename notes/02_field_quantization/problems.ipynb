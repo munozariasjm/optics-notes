{
 "cells": [
  {
   "attachments": {},
   "cell_type": "markdown",
   "metadata": {},
   "source": [
    "### Solving some problems on the Gerry Optics book"
   ]
  },
  {
   "attachments": {},
   "cell_type": "markdown",
   "metadata": {},
   "source": [
    "## Problem 12:\n",
    "\n",
    "Consider the state:\n",
    "\n",
    "$$\\ket{\\psi} = \\frac{1}{\\sqrt 2}\n",
    "\n",
    ". Suppose that there is some way to determine the state of the atom. For example, if the atom is detected in state |g\u0004 then the field state will be reduced to |−α\u0004 = \u0005g | ψ(π)\u0004/|\u0005g | ψ(π)\u0004| with a similar result\n",
    "for detection of the atomic state | f \u0004. (See Appendix D.) But suppose it were somehow"
   ]
  },
  {
   "cell_type": "code",
   "execution_count": null,
   "metadata": {},
   "outputs": [],
   "source": []
  }
 ],
 "metadata": {
  "language_info": {
   "name": "python"
  },
  "orig_nbformat": 4
 },
 "nbformat": 4,
 "nbformat_minor": 2
}
